{
 "cells": [
  {
   "cell_type": "markdown",
   "metadata": {},
   "source": [
    "# Simulated 2-D Pointing\n",
    "\n",
    "This notebook contains a simulation for two motors that control the position of a point on an imager. Each motor controls one axis of the position of centroid along the screen"
   ]
  },
  {
   "cell_type": "code",
   "execution_count": null,
   "metadata": {},
   "outputs": [],
   "source": [
    "# General setup and imports\n",
    "%matplotlib notebook\n",
    "import matplotlib.pyplot as plt\n",
    "from bluesky import RunEngine\n",
    "from bluesky.callbacks.best_effort import BestEffortCallback\n",
    "from bluesky.plans import *\n",
    "from bluesky.preprocessors import run_wrapper\n",
    "from bluesky.utils import install_nb_kicker\n",
    "from functools import partial\n",
    "from ophyd import Device, Component as Cpt\n",
    "from ophyd.sim import SynAxis, SynSignal\n",
    "import pcdsdevices\n",
    "\n",
    "# Interactive matplotlib mode\n",
    "plt.ion()"
   ]
  },
  {
   "cell_type": "markdown",
   "metadata": {},
   "source": [
    "## Device Definitions\n",
    "\n",
    "Before we can start scanning we need to instantiate a few devices for our simulation:\n",
    "\n",
    "* `RunEngine` - Think of this as the conductor for our orchestra. The job of the RunEngine is to direct the rest of the band as we perform our scans\n",
    "\n",
    "* `SynAxis` - These are built-in simulation motors from `ophyd`. They are a simple little class which just goes where it is told.\n",
    "\n",
    "* `SynSignal` - This class will take the place of our detector. It allows us to plug in a Python function that is evaluated every time we \"trigger\" it. In this case the function we create will interpret the position of our motors and return where the centroid values are present."
   ]
  },
  {
   "cell_type": "code",
   "execution_count": null,
   "metadata": {},
   "outputs": [],
   "source": [
    "# Create a RunEngine\n",
    "RE = RunEngine()\n",
    "# Use BestEffortCallback for nice vizualizations during scans\n",
    "bec = BestEffortCallback()\n",
    "RE.subscribe(bec)\n",
    "# Install our notebook kicker to have plots update during a scan\n",
    "install_nb_kicker()"
   ]
  },
  {
   "cell_type": "code",
   "execution_count": null,
   "metadata": {},
   "outputs": [],
   "source": [
    "# Create our motors\n",
    "x = SynAxis(name='x')\n",
    "y = SynAxis(name='y')"
   ]
  },
  {
   "cell_type": "code",
   "execution_count": null,
   "metadata": {},
   "outputs": [],
   "source": [
    "# Define our function to determine motor position\n",
    "def centroid_from_motor(motor, size=640., scale=1.):\n",
    "    # Find the current position of the motor\n",
    "    position = motor.position\n",
    "    # Calculate the centroid position\n",
    "    centroid = position * scale\n",
    "    # If we are off the screen just return a value of 0.\n",
    "    if centroid < 0. or centroid > size:\n",
    "        return 0.\n",
    "    # Otherwise give the result of our line\n",
    "    else:\n",
    "        return centroid\n",
    "        \n",
    "    "
   ]
  },
  {
   "cell_type": "code",
   "execution_count": null,
   "metadata": {},
   "outputs": [],
   "source": [
    "class Imager(Device):\n",
    "    # Declare the relationships between motors and centroids\n",
    "    x_centroid = Cpt(SynSignal, func=partial(centroid_from_motor, x))\n",
    "    y_centroid = Cpt(SynSignal, func=partial(centroid_from_motor, y))\n",
    "    \n",
    "    # Setting the hints is not strictly required but this allows the \n",
    "    # automated vizualization to pick up on these values\n",
    "    @property\n",
    "    def hints(self):\n",
    "        return {'fields': [self.x_centroid.name, self.y_centroid.name]}\n",
    "    \n",
    "    # Make sure we update all the signals when the detector is triggered\n",
    "    def trigger(self):\n",
    "        self.x_centroid.trigger()\n",
    "        self.y_centroid.trigger()\n",
    "        return super().trigger()"
   ]
  },
  {
   "cell_type": "code",
   "execution_count": null,
   "metadata": {},
   "outputs": [],
   "source": [
    "imager = Imager(name='imager')"
   ]
  },
  {
   "cell_type": "markdown",
   "metadata": {},
   "source": [
    "## Playground\n",
    "\n",
    "Now that we have our devices are setup, feel free to play around and run some scans. I've included a few examples below to get you started."
   ]
  },
  {
   "cell_type": "code",
   "execution_count": null,
   "metadata": {
    "scrolled": false
   },
   "outputs": [],
   "source": [
    "RE(scan([imager], x, -100, 800, 50))"
   ]
  },
  {
   "cell_type": "code",
   "execution_count": null,
   "metadata": {},
   "outputs": [],
   "source": [
    "RE(grid_scan([imager], x, 200, 400, 10, y, 200, 400, 10, False))"
   ]
  },
  {
   "cell_type": "markdown",
   "metadata": {},
   "source": [
    "## Alignment\n",
    "\n",
    "While the prior examples are all built-in to `bluesky`, there has been development at **SLAC** on scans focusing more on automation than pure data collection. These use the \"adaptive\" behavior possible with the `bluesky` framework to collect data, interpet it as it streams in, then make the next step with more conviction."
   ]
  },
  {
   "cell_type": "code",
   "execution_count": null,
   "metadata": {},
   "outputs": [],
   "source": [
    "from pswalker.plans import walk_to_pixel"
   ]
  },
  {
   "cell_type": "code",
   "execution_count": null,
   "metadata": {},
   "outputs": [],
   "source": [
    "RE(run_wrapper(walk_to_pixel(imager, x, 420, start=40, first_step=20, target_fields=['x_centroid', 'x'], max_steps=5)))"
   ]
  },
  {
   "cell_type": "code",
   "execution_count": null,
   "metadata": {},
   "outputs": [],
   "source": []
  }
 ],
 "metadata": {
  "kernelspec": {
   "display_name": "Python 3",
   "language": "python",
   "name": "python3"
  },
  "language_info": {
   "codemirror_mode": {
    "name": "ipython",
    "version": 3
   },
   "file_extension": ".py",
   "mimetype": "text/x-python",
   "name": "python",
   "nbconvert_exporter": "python",
   "pygments_lexer": "ipython3",
   "version": "3.6.5"
  }
 },
 "nbformat": 4,
 "nbformat_minor": 2
}
